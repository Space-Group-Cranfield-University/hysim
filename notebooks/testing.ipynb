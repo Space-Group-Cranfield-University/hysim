{
 "cells": [
  {
   "cell_type": "markdown",
   "metadata": {},
   "source": [
    "## Testing Notebook\n",
    "\n",
    "Notebook to perform quick checks for modules. Not to replace proper unit tests."
   ]
  },
  {
   "cell_type": "code",
   "execution_count": null,
   "metadata": {},
   "outputs": [],
   "source": [
    "import os\n",
    "import sys\n",
    "module_path = os.path.abspath(os.path.join('..'))\n",
    "if module_path not in sys.path:\n",
    "    sys.path.append(module_path)\n",
    "\n",
    "# Add code directory here\n",
    "code_dir = \"\""
   ]
  },
  {
   "cell_type": "markdown",
   "metadata": {},
   "source": [
    "### SPD Reader"
   ]
  },
  {
   "cell_type": "code",
   "execution_count": 2,
   "metadata": {},
   "outputs": [
    {
     "ename": "ModuleNotFoundError",
     "evalue": "No module named 'hyperspacesim'",
     "output_type": "error",
     "traceback": [
      "\u001b[1;31m---------------------------------------------------------------------------\u001b[0m",
      "\u001b[1;31mModuleNotFoundError\u001b[0m                       Traceback (most recent call last)",
      "\u001b[1;32mw:\\Work\\DASA_Hyperspectral_Simulator\\Code_Development\\hypersim_git\\notebooks\\testing.ipynb Cell 4\u001b[0m in \u001b[0;36m<cell line: 1>\u001b[1;34m()\u001b[0m\n\u001b[1;32m----> <a href='vscode-notebook-cell:/w%3A/Work/DASA_Hyperspectral_Simulator/Code_Development/hypersim_git/notebooks/testing.ipynb#W4sZmlsZQ%3D%3D?line=0'>1</a>\u001b[0m \u001b[39mimport\u001b[39;00m \u001b[39mhyperspacesim\u001b[39;00m\u001b[39m.\u001b[39;00m\u001b[39mutils\u001b[39;00m \u001b[39mas\u001b[39;00m \u001b[39mut\u001b[39;00m\n\u001b[0;32m      <a href='vscode-notebook-cell:/w%3A/Work/DASA_Hyperspectral_Simulator/Code_Development/hypersim_git/notebooks/testing.ipynb#W4sZmlsZQ%3D%3D?line=2'>3</a>\u001b[0m spd_data \u001b[39m=\u001b[39m ut\u001b[39m.\u001b[39mSPDReader(code_dir\u001b[39m+\u001b[39m\u001b[39m\"\u001b[39m\u001b[39mhyperspacesim\u001b[39m\u001b[39m\\\\\u001b[39;00m\u001b[39mdata\u001b[39m\u001b[39m\\\\\u001b[39;00m\u001b[39mspectra\u001b[39m\u001b[39m\\\\\u001b[39;00m\u001b[39mfilm_vnir.spd\u001b[39m\u001b[39m\"\u001b[39m)\n\u001b[0;32m      <a href='vscode-notebook-cell:/w%3A/Work/DASA_Hyperspectral_Simulator/Code_Development/hypersim_git/notebooks/testing.ipynb#W4sZmlsZQ%3D%3D?line=3'>4</a>\u001b[0m \u001b[39mprint\u001b[39m(spd_data\u001b[39m.\u001b[39mwavelengths)\n",
      "\u001b[1;31mModuleNotFoundError\u001b[0m: No module named 'hyperspacesim'"
     ]
    }
   ],
   "source": [
    "import hyperspacesim.utils as ut\n",
    "\n",
    "spd_data = ut.SPDReader(code_dir+\"hyperspacesim\\\\data\\\\spectra\\\\film_vnir.spd\")\n",
    "print(spd_data.wavelengths)\n"
   ]
  },
  {
   "cell_type": "markdown",
   "metadata": {},
   "source": [
    "### Spectral Bands"
   ]
  },
  {
   "cell_type": "code",
   "execution_count": null,
   "metadata": {},
   "outputs": [],
   "source": [
    "from hyperspacesim import sensors as sens\n",
    "\n",
    "bands = sens.SpectralBands(51, \"hyperspacesim\\\\data\\\\spectra\\\\film_vnir.spd\")\n",
    "\n",
    "print(bands.sensitivities)\n",
    "print(bands.wavelengths)\n",
    "print(type(bands.wavelengths))\n",
    "print(type(bands.wavelengths[0]))\n",
    "print(type(bands.sensitivities[0]))\n",
    "print(bands.number_of_bands)"
   ]
  }
 ],
 "metadata": {
  "kernelspec": {
   "display_name": "Python 3.9.12 ('hypersim')",
   "language": "python",
   "name": "python3"
  },
  "language_info": {
   "codemirror_mode": {
    "name": "ipython",
    "version": 3
   },
   "file_extension": ".py",
   "mimetype": "text/x-python",
   "name": "python",
   "nbconvert_exporter": "python",
   "pygments_lexer": "ipython3",
   "version": "3.9.12"
  },
  "orig_nbformat": 4,
  "vscode": {
   "interpreter": {
    "hash": "41961aac52fb127cc529437b1c8065c6b7afb7e637da3240aa439d14e9c56889"
   }
  }
 },
 "nbformat": 4,
 "nbformat_minor": 2
}
